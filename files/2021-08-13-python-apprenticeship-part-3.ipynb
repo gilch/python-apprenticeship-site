{
 "cells": [
  {
   "cell_type": "markdown",
   "metadata": {},
   "source": [
    "# An Apprentice Experiment in Python Programming, Part 3"
   ]
  },
  {
   "cell_type": "markdown",
   "metadata": {},
   "source": [
    "This notebook is an interactive version of [An Apprentice Experiment in Python Programming, Part 3](https://www.lesswrong.com/posts/fKTqwbGAwPNm6fyEH/an-apprentice-experiment-in-python-programming-part-3) on LessWrong. "
   ]
  },
  {
   "cell_type": "markdown",
   "metadata": {},
   "source": [
    "If you have not used Jupyter notebooks before, [here](https://nbviewer.jupyter.org/github/jupyter/notebook/blob/master/docs/source/examples/Notebook/Notebook%20Basics.ipynb#Modal-editor) is a quick intro about how you can run the code cells."
   ]
  },
  {
   "cell_type": "markdown",
   "metadata": {},
   "source": [
    "### Registry\n",
    "\n",
    "After we talked about the solutions for the [previous puzzle](https://www.lesswrong.com/posts/jkaCF3yrfKvFQL4ym/an-apprentice-experiment-in-python-programming-part-2#A_More_Difficult_Example), gilch sent me the next one (gilch later clarified that I could put any code above the provided code):\n",
    "\n",
    "```python\n",
    "registry = []\n",
    "@register\n",
    "def alice():\n",
    "    print(\"Alice\")\n",
    "@register\n",
    "def bob():\n",
    "    print(\"Bob\")\n",
    "@register\n",
    "def charlie():\n",
    "    print(\"Charlie\")\n",
    "```\n",
    "\n",
    "```python\n",
    ">>> for name in registry: name()\n",
    "Alice\n",
    "Bob\n",
    "Charlie\n",
    "```"
   ]
  },
  {
   "cell_type": "markdown",
   "metadata": {},
   "source": [
    "#### Try it yourself!"
   ]
  },
  {
   "cell_type": "code",
   "execution_count": null,
   "metadata": {},
   "outputs": [],
   "source": [
    "# <insert your code here>\n",
    "\n",
    "registry = []\n",
    "@register\n",
    "def alice():\n",
    "    print(\"Alice\")\n",
    "@register\n",
    "def bob():\n",
    "    print(\"Bob\")\n",
    "@register\n",
    "def charlie():\n",
    "    print(\"Charlie\")\n",
    "    \n",
    "for name in registry: name()"
   ]
  },
  {
   "cell_type": "markdown",
   "metadata": {},
   "source": []
  },
  {
   "cell_type": "markdown",
   "metadata": {},
   "source": [
    "#### Solution"
   ]
  },
  {
   "cell_type": "code",
   "execution_count": 9,
   "metadata": {},
   "outputs": [
    {
     "name": "stdout",
     "output_type": "stream",
     "text": [
      "Alice\n",
      "Bob\n",
      "Charlie\n"
     ]
    }
   ],
   "source": [
    "def register(f):\n",
    "    registry.append(f)\n",
    "\n",
    "registry = []\n",
    "@register\n",
    "def alice():\n",
    "    print(\"Alice\")\n",
    "@register\n",
    "def bob():\n",
    "    print(\"Bob\")\n",
    "@register\n",
    "def charlie():\n",
    "    print(\"Charlie\")\n",
    "    \n",
    "for name in registry: name()"
   ]
  },
  {
   "cell_type": "markdown",
   "metadata": {},
   "source": [
    "While the output was exactly what I expected, I was a bit surprised that I got to use `registry` before it was declared, but then I realized the variable was not actually used until the first instance of `@register`, after `registry` was instantiated. To which gilch responded that globals don't need to exist until they are actually used. We moved on to the next puzzle:\n"
   ]
  },
  {
   "cell_type": "markdown",
   "metadata": {},
   "source": [
    "### Register, Part 2\n",
    "\n",
    "```python\n",
    "registry = {}\n",
    "@register\n",
    "def alice():\n",
    "    print(\"Alice\")\n",
    "@register\n",
    "def bob():\n",
    "    print(\"Bob\")\n",
    "@register\n",
    "def charlie():\n",
    "    print(\"Charlie\")\n",
    "```\n",
    "\n",
    "```python\n",
    ">>> for name, func in registry.items():\n",
    "...     print(f\"{name}() does:\")\n",
    "...     func()\n",
    "...     print()\n",
    "... \n",
    "alice() does:\n",
    "Alice\n",
    "\n",
    "bob() does:\n",
    "Bob\n",
    "\n",
    "charlie() does:\n",
    "Charlie\n",
    "\n",
    ">>> \n",
    "```"
   ]
  },
  {
   "cell_type": "markdown",
   "metadata": {},
   "source": [
    "#### Try it yourself!"
   ]
  },
  {
   "cell_type": "code",
   "execution_count": null,
   "metadata": {},
   "outputs": [],
   "source": [
    "# <insert your code here>\n",
    "\n",
    "registry = {}\n",
    "@register\n",
    "def alice():\n",
    "    print(\"Alice\")\n",
    "@register\n",
    "def bob():\n",
    "    print(\"Bob\")\n",
    "@register\n",
    "def charlie():\n",
    "    print(\"Charlie\")\n",
    "    \n",
    "for name, func in registry.items():\n",
    "    print(f\"{name}() does:\")\n",
    "    func()\n",
    "    print()"
   ]
  },
  {
   "cell_type": "markdown",
   "metadata": {},
   "source": []
  },
  {
   "cell_type": "markdown",
   "metadata": {},
   "source": [
    "I played around the Python shell and noticed the function name was in the string representation of the function object:\n",
    "```python\n",
    ">>> alice\n",
    "<function alice at 0x7fb5ad0db040>\n",
    "```\n",
    "So I used the first way I could think of to parse the function name in my solution:"
   ]
  },
  {
   "cell_type": "code",
   "execution_count": 10,
   "metadata": {},
   "outputs": [],
   "source": [
    "def register(f):\n",
    "    function_name = f.__str__().split(\" \")[1]\n",
    "    registry[function_name] = f\n",
    "    return f"
   ]
  },
  {
   "cell_type": "markdown",
   "metadata": {},
   "source": [
    "This gave me the output I wanted, but I asked gilch if there was a simpler way to get the function names. Gilch's solution was:"
   ]
  },
  {
   "cell_type": "code",
   "execution_count": 14,
   "metadata": {},
   "outputs": [
    {
     "name": "stdout",
     "output_type": "stream",
     "text": [
      "alice() does:\n",
      "Alice\n",
      "\n",
      "bob() does:\n",
      "Bob\n",
      "\n",
      "charlie() does:\n",
      "Charlie\n",
      "\n"
     ]
    }
   ],
   "source": [
    "def register(f):\n",
    "    registry[f.__name__] = f\n",
    "    return f\n",
    "\n",
    "registry = {}\n",
    "@register\n",
    "def alice():\n",
    "    print(\"Alice\")\n",
    "@register\n",
    "def bob():\n",
    "    print(\"Bob\")\n",
    "@register\n",
    "def charlie():\n",
    "    print(\"Charlie\")\n",
    "    \n",
    "for name, func in registry.items():\n",
    "    print(f\"{name}() does:\")\n",
    "    func()\n",
    "    print()"
   ]
  },
  {
   "cell_type": "markdown",
   "metadata": {},
   "source": [
    "I didn't know `__name__` existed.\n",
    "\n",
    "Gilch remarked,\n",
    "\n",
    "> Technically, you don't need the `return f` to make the tests pass, but it's an important point that a decorator could leave the function as-is and just have a side effect. If we didn't have the return line, they'd all be set to `None` in the module, but the registry would still have the originals.\"\n",
    "\n",
    "Me:\n",
    "\n",
    "> Oh it took me a moment to get why this was the case. At first I thought the functions were being passed in by value, but that didn't seem right. Then I thought they were passed in by reference, and variables `alice` `bob` and `charlie` would still point to the functions when the decorator was run, but that still didn't explain why we were able to use the functions in the test case. I visualized the code on Python Tutor and realized that, upon reassignment, while `alice` `bob` and `charlie` were no longer pointing at the functions, the function objects themselves still existed, and were (only) accessible through the dictionary.\"\n"
   ]
  },
  {
   "cell_type": "markdown",
   "metadata": {},
   "source": [
    "### Python Objects in Memory\n",
    "\n",
    "Noticing my confusion, gilch started talking about how objects were stored in memory in Python:\n",
    "\n",
    "> Thinking about pass-by-value/reference in Python like you do in C will confuse you. Python has a simpler and more consistent model. The only things on the call stack are references to objects on the heap. There are no stack objects in Python. Calls always copy the references used as arguments to the next stack frame.\n",
    "\n",
    "When asked about whether this also applied to small types like boolean or int:\n",
    "\n",
    "> Yes. In Java terminology, these are boxed. Python has no \"primitives\". The closest you can get to unboxed objects are numpy arrays.\n",
    "\n",
    "I was surprised to learn this, because some pieces in my mental model have come from [Python Tutor](http://pythontutor.com/), which displays complex objects such as functions and arrays as references on the stack, but integers and strings as values on the stack:\n",
    "\n",
    "![](https://hendrix-cs.github.io/csci150/assets/images/python_tutor.png)\n",
    "\n",
    "Gilch noted that \"Python Tutor has an option to 'render all objects on the heap (Python/Java)'.\" \n"
   ]
  },
  {
   "cell_type": "markdown",
   "metadata": {},
   "source": [
    "### Constants (Only One Copy in Memory)\n",
    "\n",
    "Gilch:\n",
    "\n",
    "> I may be fuzzy on all of the details of Python's internals. But True and False are constants. There are only ever one of them each per interpreter session. You can get the memory address of a reference using the `id()` builtin.\n",
    "\n",
    "```python\n",
    ">>> id(True)\n",
    "140735313696872\n",
    ">>> x = True\n",
    ">>> id(x)\n",
    "140735313696872\n",
    ">>> def foo(z):\n",
    "    print(id(z))\n",
    "    def bar(y):\n",
    "        print(id(y))\n",
    "    bar(z)\n",
    "\n",
    ">>> foo(x)\n",
    "140735313696872\n",
    "140735313696872\n",
    "```"
   ]
  },
  {
   "cell_type": "markdown",
   "metadata": {},
   "source": [
    "### A More Difficult Puzzle\n",
    "\n",
    "As before, the format of the puzzles is that I'm allowed to add any code before the given code snippet to produce the specified output.\n",
    "\n",
    "```python\n",
    "@run_with.fixture\n",
    "def foo():\n",
    "    return [42,'eggs']\n",
    "\n",
    "@run_with.fixture\n",
    "def bar():\n",
    "    return {'z':'Q', 'foo':2, 42:'forty-two', 'eggs':'spam'}\n",
    "\n",
    "@run_with\n",
    "def test1(foo, bar):\n",
    "    while foo:\n",
    "        del bar[foo.pop()]\n",
    "    print(bar)\n",
    "\n",
    "@run_with\n",
    "def test2(foo, bar):\n",
    "    for k in foo:\n",
    "        print(bar[k])\n",
    "```\n",
    "\n",
    "```python\n",
    ">>> test1()\n",
    "{'z': 'Q', 'foo': 2}\n",
    ">>> test2()\n",
    "fourty-two\n",
    "spam\n",
    "```"
   ]
  },
  {
   "cell_type": "markdown",
   "metadata": {},
   "source": [
    "#### Try it yourself!"
   ]
  },
  {
   "cell_type": "code",
   "execution_count": null,
   "metadata": {},
   "outputs": [],
   "source": [
    "# <insert your code here>\n",
    "\n",
    "@run_with.fixture\n",
    "def foo():\n",
    "    return [42,'eggs']\n",
    "\n",
    "@run_with.fixture\n",
    "def bar():\n",
    "    return {'z':'Q', 'foo':2, 42:'forty-two', 'eggs':'spam'}\n",
    "\n",
    "@run_with\n",
    "def test1(foo, bar):\n",
    "    while foo:\n",
    "        del bar[foo.pop()]\n",
    "    print(bar)\n",
    "\n",
    "@run_with\n",
    "def test2(foo, bar):\n",
    "    for k in foo:\n",
    "        print(bar[k])"
   ]
  },
  {
   "cell_type": "code",
   "execution_count": null,
   "metadata": {},
   "outputs": [],
   "source": [
    "test1()"
   ]
  },
  {
   "cell_type": "code",
   "execution_count": null,
   "metadata": {},
   "outputs": [],
   "source": [
    "test2()"
   ]
  },
  {
   "cell_type": "markdown",
   "metadata": {},
   "source": []
  },
  {
   "cell_type": "markdown",
   "metadata": {},
   "source": [
    "### Attempt 1\n",
    "\n",
    "I saw `@run_with.fixture`, so I thought \"class method\", and when I saw `@run_with`, I thought I'd need to re-purpose a constructor.\n"
   ]
  },
  {
   "cell_type": "code",
   "execution_count": null,
   "metadata": {},
   "outputs": [],
   "source": [
    "class run_with:\n",
    "    def __init__(self, f):\n",
    "        self.fixtures = {}\n",
    "        return f\n",
    "\n",
    "    def fixture(self, f):\n",
    "        self.fixtures[f.__name__] = f()"
   ]
  },
  {
   "cell_type": "markdown",
   "metadata": {},
   "source": [
    "This did not work:\n",
    "\n",
    "```\n",
    "Traceback (most recent call last):\n",
    "  File \"code.py\", line 11, in <module>\n",
    "    def foo():\n",
    "TypeError: fixture() missing 1 required positional argument: 'f'\n",
    "```\n",
    "\n",
    "So I thought, I'd just make everything a class method instead of an instance method:\n"
   ]
  },
  {
   "cell_type": "code",
   "execution_count": null,
   "metadata": {},
   "outputs": [],
   "source": [
    "class run_with:\n",
    "    fixtures = {}  # took this out of __init__\n",
    "    def __init__(f):  # attempted to make __init__ a class method by removing `self`\n",
    "        return f\n",
    "\n",
    "    def fixture(f):  #  attempted to make fixture a class method by removing `self`\n",
    "        fixtures[f.__name__] = f()"
   ]
  },
  {
   "cell_type": "markdown",
   "metadata": {},
   "source": [
    "Didn't work either:\n",
    "\n",
    "```\n",
    "Traceback (most recent call last):\n",
    "  File \"code.py\", line 11, in <module>\n",
    "    def foo():\n",
    "  File \"code.py\", line 7, in fixture\n",
    "    fixtures[f.__name__] = f()\n",
    "NameError: name 'fixtures' is not defined\n",
    "```\n",
    "\n",
    "I think I was not making class variable the right way.  In addition, I also couldn't return anything in a constructor.\n",
    "\n",
    "Gilch:\n",
    "\n",
    "> `__init__` is not a constructor. That's a common misconception. By the time `__init__` is called, there is already a `self`, so the object has been constructed already. `__init__` is instead the default initializer. The constructor is actually `__new__`. `__init__` is required to return `None`. I see that you're not using the terms \"class method\" and \"instance method\" correctly. We'll need to cover that later. That, or you understand what they mean, but not how to actually implement them. Either way. Making a class is one of the ways to solve this one, but you might be missing an important piece to do it that way.\n",
    "\n",
    "I had another idea:\n"
   ]
  },
  {
   "cell_type": "code",
   "execution_count": null,
   "metadata": {},
   "outputs": [],
   "source": [
    "class run_with:\n",
    "    fixtures = {}\n",
    "    def __new__(f):  # used __new__ instead of __init__\n",
    "        return f\n",
    "\n",
    "    def fixture(f):\n",
    "        run_with.fixtures[f.__name__] = f()"
   ]
  },
  {
   "cell_type": "markdown",
   "metadata": {},
   "source": [
    "\n",
    "This time we run into problems when decorating the tests:\n",
    "\n",
    "```\n",
    "Traceback (most recent call last):\n",
    "  File \"/home/jas/code_stuff/python_scratch/02-run-with.py\", line 19, in <module>\n",
    "    def test1(foo, bar):\n",
    "TypeError: __new__() takes 1 positional argument but 2 were given\n",
    "```\n",
    "\n",
    "I asked, \"I thought `__new__` was only taking in the function it's decorating, why does python tell me it's given 2 arguments?\"\n",
    "\n",
    "To which gilch answered,\n",
    "\n",
    "> `__new__` is special-cased as a classmethod without having to be declared as such. Thus, its first argument is `cls`, rather than `self`. Of course, you can name the `cls` or `self` parameters anything you want. These names are just (very strong) conventions. In this case, you named it `f`. The interpreter doesn't care though.\n",
    "\n",
    "Me:\n",
    "\n",
    "> So, if we're interpreting the `.` in `@run_with.fixture` as a method, then I can also make `run_with` an object, however that still doesn't solve the problem of `run_with` also being a callable that takes in a function. The other possibility I can think of is to use modules, like `functools.partial`. But still, I don't see how to make the module itself a callable.\n",
    "\n",
    "Gilch:\n",
    "\n",
    "> There are some other possibilities. I do know of a way to make a module callable, but if you know how to do that, you don't need a module. I didn't expect the `.fixture` to be the hard part, although it is one of the concepts you'd have to get. If you're out of ideas about this part, we can try a slightly easier puzzle."
   ]
  },
  {
   "cell_type": "markdown",
   "metadata": {},
   "source": [
    "### Attempt 2\n",
    "\n",
    "The modified puzzle that we're now solving:\n",
    "\n",
    "```python\n",
    "@fixture  # replaced \"run_with.fixture\" with \"fixture\" so we're making separate decorators\n",
    "def foo():\n",
    "    return [42,'eggs']\n",
    "\n",
    "@fixture  # same as the first line\n",
    "def bar():\n",
    "    return {'z':'Q', 'foo':2, 42:'forty-two', 'eggs':'spam'}\n",
    "\n",
    "@run_with\n",
    "def test1(foo, bar):\n",
    "    while foo:\n",
    "        del bar[foo.pop()]\n",
    "    print(bar)\n",
    "\n",
    "@run_with\n",
    "def test2(foo, bar):\n",
    "    for k in foo:\n",
    "        print(bar[k])\n",
    "```\n",
    "\n",
    "The expected output stays the same:\n",
    "\n",
    "```python\n",
    ">>> test1()\n",
    "{'z': 'Q', 'foo': 2}\n",
    ">>> test2()\n",
    "fourty-two\n",
    "spam\n",
    "```\n",
    "\n",
    "Gilch also commented that this strategy is generalizable: \n",
    "\n",
    "> By the way, coming up with a simplified problem and solving that first like this is a useful technique in real-world programming, not just for toy problems like this one. Often the solution to the easy problem makes a solution for the harder one easier to discover.\n"
   ]
  },
  {
   "cell_type": "markdown",
   "metadata": {},
   "source": [
    "#### Try it yourself!"
   ]
  },
  {
   "cell_type": "code",
   "execution_count": null,
   "metadata": {},
   "outputs": [],
   "source": [
    "# <insert your code here>\n",
    "\n",
    "@fixture\n",
    "def foo():\n",
    "    return [42,'eggs']\n",
    "\n",
    "@fixture\n",
    "def bar():\n",
    "    return {'z':'Q', 'foo':2, 42:'forty-two', 'eggs':'spam'}\n",
    "\n",
    "@run_with\n",
    "def test1(foo, bar):\n",
    "    while foo:\n",
    "        del bar[foo.pop()]\n",
    "    print(bar)\n",
    "\n",
    "@run_with\n",
    "def test2(foo, bar):\n",
    "    for k in foo:\n",
    "        print(bar[k])"
   ]
  },
  {
   "cell_type": "code",
   "execution_count": null,
   "metadata": {},
   "outputs": [],
   "source": [
    "test1()"
   ]
  },
  {
   "cell_type": "code",
   "execution_count": null,
   "metadata": {},
   "outputs": [],
   "source": [
    "test2()"
   ]
  },
  {
   "cell_type": "markdown",
   "metadata": {},
   "source": []
  },
  {
   "cell_type": "markdown",
   "metadata": {},
   "source": [
    "I came up with a first-pass solution:"
   ]
  },
  {
   "cell_type": "code",
   "execution_count": null,
   "metadata": {},
   "outputs": [],
   "source": [
    "from functools import partial\n",
    "\n",
    "fixtures = {}\n",
    "\n",
    "def fixture(f):  # defining `fixture` as a standalone function\n",
    "    fixtures[f.__name__] = f()\n",
    "    return f\n",
    "\n",
    "def run_with(test):  # rewriting `run_with` as a function rather than a class\n",
    "    def wrapper():\n",
    "        return partial(test, *fixtures.values())()\n",
    "    return wrapper"
   ]
  },
  {
   "cell_type": "markdown",
   "metadata": {},
   "source": [
    "While I was able to get the output I wanted from the tests, I could only run one test in a session. Running both tests in the same session didn't work:\n",
    "\n",
    "```bash\n",
    "$ python3.9 -i code.py\n",
    "```\n",
    "```python\n",
    ">>> test1()\n",
    "{'z': 'Q', 'foo': 2}\n",
    ">>> test2()\n",
    ">>>\n",
    "```\n",
    "\n",
    "```bash\n",
    "$ python3.9 -i code.py \n",
    "```python\n",
    ">>> test2()\n",
    "forty-two\n",
    "spam\n",
    ">>> \n",
    "```\n",
    "\n",
    "Also, since I used `*fixtures.values()` to unpack the fixtures passed in as arguments, if we changed the order in which the fixtures were passed in, this solution would no longer work. I suspected this was because the two tests were referencing the same `fixtures` object, so I tried to make a copy of `fixtures`:"
   ]
  },
  {
   "cell_type": "markdown",
   "metadata": {},
   "source": [
    "```diff\n",
    " def run_with(test):\n",
    "     def wrapper():\n",
    "-        return partial(test, *fixtures.values())()\n",
    "-    return wrapper\n",
    "+        def replacement_test():\n",
    "+            fixtures_copy = fixtures.copy()\n",
    "+            partial(test, *fixtures_copy.values())()\n",
    "+            fixtures_copy = fixtures.copy()\n",
    "+        return replacement_test\n",
    "+    return wrapper()\n",
    "```"
   ]
  },
  {
   "cell_type": "code",
   "execution_count": null,
   "metadata": {},
   "outputs": [],
   "source": [
    "from functools import partial\n",
    "\n",
    "fixtures = {}\n",
    "\n",
    "def fixture(f):\n",
    "    fixtures[f.__name__] = f()\n",
    "    return f\n",
    "\n",
    "def run_with(test):\n",
    "    def wrapper():\n",
    "        def replacement_test():  # added a new layer so I could copy the dictionary before calling `partial`\n",
    "            fixtures_copy = fixtures.copy()\n",
    "            partial(test, *fixtures_copy.values())()\n",
    "            fixtures_copy = fixtures.copy()  # this line doesn't do anything! Why?\n",
    "        return replacement_test\n",
    "    return wrapper()"
   ]
  },
  {
   "cell_type": "markdown",
   "metadata": {},
   "source": [
    "This didn't work, I was still unable to run both tests in the same session. \n",
    "\n",
    "Gilch asked, \n",
    "\n",
    "> What, exactly, do you expect that line to do?\n",
    "\n",
    "To which I replied, \n",
    "\n",
    "> So we run the test by using `partial`. `test1` modifies `fixtures_copy`, and I want to restore the state of `fixtures_copy` so it can be used by the next test.\n",
    "\n",
    "Gilch:\n",
    "\n",
    "> Your mental model does not match what the code is doing. This is map-and-territory stuff. Have you tried stepping through it with the debugger? Or smaller pieces interactively? You might still be thinking in terms of pass-by-reference. Python doesn't work that way. Were you writing a lot of C or C++ before? C#? You must unlearn what you have learned. Python is a different animal.\n",
    "\n",
    "I ran the code with a debugger and noticed that the original `fixtures` was still modified. I was not expecting this:\n",
    "\n",
    "```python\n",
    "-> fixtures_copy = fixtures.copy()\n",
    "(Pdb) fixtures_copy\n",
    "{'foo': [], 'bar': {'z': 'Q', 'foo': 2}}\n",
    "(Pdb) fixtures\n",
    "{'foo': [], 'bar': {'z': 'Q', 'foo': 2}}\n",
    "```\n",
    "\n",
    "When I wrote the line `fixtures_copy = fixtures.copy()` I was specifically trying to make a deep copy of the dictionary, I guess I still ended up with a shallow copy.\n",
    "\n",
    "Gilch:\n",
    "\n",
    "> Had you checked, you might have seen this:\n",
    ">\n",
    "> ```\n",
    "> >>> help({}.copy)\n",
    "> Help on built-in function copy:\n",
    "> \n",
    "> copy(...) method of builtins.dict instance\n",
    ">     D.copy() -> a shallow copy of D\n",
    "> ```\n",
    ">\n",
    "> `from copy import deepcopy` might be what you are looking for. It's important to know that exists, but you can solve this puzzle without it. \n",
    ">\n",
    "> Let's try a modification.\n"
   ]
  },
  {
   "cell_type": "markdown",
   "metadata": {},
   "source": [
    "### Attempt 3\n",
    "\n",
    "Once again, we decided to solve an easier problem first.\n",
    "\n",
    "```diff\n",
    " @fixture\n",
    " def foo():\n",
    "+    print('made a foo')\n",
    "     return [42,'eggs']\n",
    " \n",
    " @fixture\n",
    " def bar():\n",
    "+    print('made a bar')\n",
    "     return {'z':'Q', 'foo':2, 42:'forty-two', 'eggs':'spam'}\n",
    " \n",
    " @run_with\n",
    "-def test2(foo, bar):\n",
    "+def test2(bar, foo):\n",
    "     for k in foo:\n",
    "         print(bar[k])\n",
    "```\n",
    "\n",
    "The modified problem:\n",
    "\n",
    "```python\n",
    "@fixture\n",
    "def foo():\n",
    "    print('made a foo')  # added print statement\n",
    "    return [42,'eggs']\n",
    "\n",
    "@fixture\n",
    "def bar():\n",
    "    print('made a bar')  # added print statement\n",
    "    return {'z':'Q', 'foo':2, 42:'forty-two', 'eggs':'spam'}\n",
    "\n",
    "@run_with\n",
    "def test1(foo, bar):\n",
    "    while foo:\n",
    "        del bar[foo.pop()]\n",
    "    print(bar)\n",
    "\n",
    "@run_with\n",
    "def test2(bar, foo):  # order switched to address an weakness of my previous solution\n",
    "    for k in foo:\n",
    "        print(bar[k])\n",
    "```\n",
    "\n",
    "```python\n",
    "made a foo\n",
    "made a bar\n",
    "made a foo\n",
    "made a bar\n",
    ">>> test1()\n",
    "{'z': 'Q', 'foo': 2}\n",
    ">>> test2()\n",
    "forty-two\n",
    "spam\n",
    ">>> \n",
    "```"
   ]
  },
  {
   "cell_type": "markdown",
   "metadata": {},
   "source": [
    "#### Try it yourself!"
   ]
  },
  {
   "cell_type": "code",
   "execution_count": null,
   "metadata": {},
   "outputs": [],
   "source": [
    "# <insert your code here>\n",
    "\n",
    "@fixture\n",
    "def foo():\n",
    "    print('made a foo')\n",
    "    return [42,'eggs']\n",
    "\n",
    "@fixture\n",
    "def bar():\n",
    "    print('made a bar')\n",
    "    return {'z':'Q', 'foo':2, 42:'forty-two', 'eggs':'spam'}\n",
    "\n",
    "@run_with\n",
    "def test1(foo, bar):\n",
    "    while foo:\n",
    "        del bar[foo.pop()]\n",
    "    print(bar)\n",
    "\n",
    "@run_with\n",
    "def test2(bar, foo):\n",
    "    for k in foo:\n",
    "        print(bar[k])"
   ]
  },
  {
   "cell_type": "code",
   "execution_count": null,
   "metadata": {},
   "outputs": [],
   "source": [
    "test1()"
   ]
  },
  {
   "cell_type": "code",
   "execution_count": null,
   "metadata": {},
   "outputs": [],
   "source": [
    "test2()"
   ]
  },
  {
   "cell_type": "markdown",
   "metadata": {},
   "source": []
  },
  {
   "cell_type": "markdown",
   "metadata": {},
   "source": [
    "I decided to move the mechanism to generate fixture within each time a test was run:\n",
    "```diff\n",
    "-def fixture(f):\n",
    "-    fixtures[f.__name__] = f()\n",
    "+def fixture(f, fixture_store=fixtures):\n",
    "+    fixture_store[f] = f()\n",
    "     return f\n",
    " \n",
    " def run_with(test):\n",
    "+    new_fixture_store = {}\n",
    "+    for fixture_fn in fixtures.keys():\n",
    "+        fixture(fixture_fn, new_fixture_store)\n",
    "+\n",
    "     def wrapper():\n",
    "         def replacement_test():\n",
    "-            fixtures_copy = fixtures.copy()\n",
    "-            partial(test, *fixtures_copy.values())()\n",
    "-            fixtures_copy = fixtures.copy()\n",
    "+            partial(test, *new_fixture_store.values())()\n",
    "         return replacement_test\n",
    "     return wrapper()\n",
    "\n",
    "-def test2(foo, bar):\n",
    "+def test2(bar, foo):\n",
    "     for k in foo:\n",
    "         print(bar[k])\n",
    "```"
   ]
  },
  {
   "cell_type": "code",
   "execution_count": 1,
   "metadata": {},
   "outputs": [
    {
     "name": "stdout",
     "output_type": "stream",
     "text": [
      "made a foo\n",
      "made a bar\n",
      "made a foo\n",
      "made a bar\n",
      "made a foo\n",
      "made a bar\n"
     ]
    }
   ],
   "source": [
    "from functools import partial\n",
    "\n",
    "fixtures = {}\n",
    "\n",
    "def fixture(f, fixture_store=fixtures):\n",
    "    fixture_store[f] = f()\n",
    "    return f\n",
    "\n",
    "def run_with(test):\n",
    "    new_fixture_store = {}  # make a new copy of fixtures inside `run_with`\n",
    "    for fixture_fn in fixtures.keys():\n",
    "        fixture(fixture_fn, new_fixture_store)\n",
    "\n",
    "    def wrapper():\n",
    "        def replacement_test():  # no longer make copies of `fixtures` here\n",
    "            partial(test, *new_fixture_store.values())()\n",
    "        return replacement_test\n",
    "    return wrapper()\n",
    "\n",
    "\n",
    "@fixture\n",
    "def foo():\n",
    "    print('made a foo')\n",
    "    return [42,'eggs']\n",
    "\n",
    "@fixture\n",
    "def bar():\n",
    "    print('made a bar')\n",
    "    return {'z':'Q', 'foo':2, 42:'forty-two', 'eggs':'spam'}\n",
    "\n",
    "@run_with\n",
    "def test1(foo, bar):\n",
    "    while foo:\n",
    "        del bar[foo.pop()]\n",
    "    print(bar)\n",
    "\n",
    "@run_with\n",
    "def test2(foo, bar):  # I switched back the order for now because this seems to be a separate issue\n",
    "    for k in foo:\n",
    "        print(bar[k])"
   ]
  },
  {
   "cell_type": "code",
   "execution_count": 20,
   "metadata": {},
   "outputs": [
    {
     "name": "stdout",
     "output_type": "stream",
     "text": [
      "{'z': 'Q', 'foo': 2}\n"
     ]
    }
   ],
   "source": [
    "test1()"
   ]
  },
  {
   "cell_type": "code",
   "execution_count": 21,
   "metadata": {},
   "outputs": [
    {
     "name": "stdout",
     "output_type": "stream",
     "text": [
      "forty-two\n",
      "spam\n"
     ]
    }
   ],
   "source": [
    "test2()"
   ]
  },
  {
   "cell_type": "markdown",
   "metadata": {},
   "source": [
    "```python\n",
    "$ python3.9 -i code.py \n",
    "made a foo\n",
    "made a bar\n",
    "made a foo\n",
    "made a bar\n",
    "made a foo\n",
    "made a bar\n",
    ">>> test1()\n",
    "{'z': 'Q', 'foo': 2}\n",
    ">>> test2()\n",
    "forty-two\n",
    "spam\n",
    "```\n",
    "\n",
    "I noticed that calling the test functions within the `fixture` function was printing the extra lines. So I fixed that:\n",
    "```diff\n",
    "-fixtures = {}\n",
    "+fixtures = []\n",
    " \n",
    " def fixture(f, fixture_store=fixtures):\n",
    "-    fixture_store[f] = f()\n",
    "+    fixture_store.append(f)\n",
    "     return f\n",
    " \n",
    " def run_with(test):\n",
    "     new_fixture_store = {}\n",
    "-    for fixture_fn in fixtures.keys():\n",
    "-        fixture(fixture_fn, new_fixture_store)\n",
    "-\n",
    "+    for fixture_fn in fixtures:\n",
    "+        new_fixture_store[fixture_fn.__name__] = fixture_fn()\n",
    "     def wrapper():\n",
    "         def replacement_test():\n",
    "             partial(test, *new_fixture_store.values())()\n",
    "```"
   ]
  },
  {
   "cell_type": "code",
   "execution_count": 25,
   "metadata": {},
   "outputs": [
    {
     "name": "stdout",
     "output_type": "stream",
     "text": [
      "made a foo\n",
      "made a bar\n",
      "made a foo\n",
      "made a bar\n"
     ]
    }
   ],
   "source": [
    "from functools import partial\n",
    "\n",
    "fixtures = []  # changed from {} to []\n",
    "\n",
    "def fixture(f, fixture_store=fixtures):\n",
    "    fixture_store.append(f)  # avoid calling `f` so nothing gets printed here\n",
    "    return f\n",
    "\n",
    "def run_with(test):\n",
    "    new_fixture_store = {}\n",
    "    for fixture_fn in fixtures:\n",
    "        new_fixture_store[fixture_fn.__name__] = fixture_fn()  # store fixtures by name as key instead of function objects as key\n",
    "\n",
    "    def wrapper():\n",
    "        def replacement_test():\n",
    "            partial(test, *new_fixture_store.values())()\n",
    "        return replacement_test\n",
    "    return wrapper()\n",
    "\n",
    "\n",
    "@fixture\n",
    "def foo():\n",
    "    print('made a foo')\n",
    "    return [42,'eggs']\n",
    "\n",
    "@fixture\n",
    "def bar():\n",
    "    print('made a bar')\n",
    "    return {'z':'Q', 'foo':2, 42:'forty-two', 'eggs':'spam'}\n",
    "\n",
    "@run_with\n",
    "def test1(foo, bar):\n",
    "    while foo:\n",
    "        del bar[foo.pop()]\n",
    "    print(bar)\n",
    "\n",
    "@run_with\n",
    "def test2(foo, bar):\n",
    "    for k in foo:\n",
    "        print(bar[k])"
   ]
  },
  {
   "cell_type": "code",
   "execution_count": 26,
   "metadata": {},
   "outputs": [
    {
     "name": "stdout",
     "output_type": "stream",
     "text": [
      "{'z': 'Q', 'foo': 2}\n"
     ]
    }
   ],
   "source": [
    "test1()"
   ]
  },
  {
   "cell_type": "code",
   "execution_count": 27,
   "metadata": {},
   "outputs": [
    {
     "name": "stdout",
     "output_type": "stream",
     "text": [
      "forty-two\n",
      "spam\n"
     ]
    }
   ],
   "source": [
    "test2()"
   ]
  },
  {
   "cell_type": "markdown",
   "metadata": {},
   "source": [
    "```python\n",
    "$ python3.9 -i code.py \n",
    "made a foo\n",
    "made a bar\n",
    "made a foo\n",
    "made a bar\n",
    ">>> test1()\n",
    "{'z': 'Q', 'foo': 2}\n",
    ">>> test2()\n",
    "forty-two\n",
    "spam\n",
    "```"
   ]
  },
  {
   "cell_type": "markdown",
   "metadata": {},
   "source": [
    "### Wasted Motion\n",
    "\n",
    "Gilch asked me if I could find any wasted motion in the code I wrote above. Upon reading the code again, I realized that the `replacement_test` layer was not necessary, so `run_with` could be simplified to:"
   ]
  },
  {
   "cell_type": "code",
   "execution_count": null,
   "metadata": {},
   "outputs": [],
   "source": [
    "def run_with(test):\n",
    "    new_fixture_store = {}\n",
    "    for fixture_fn in fixtures:\n",
    "        new_fixture_store[fixture_fn.__name__] = fixture_fn()\n",
    "\n",
    "#     def wrapper():\n",
    "#         def replacement_test():\n",
    "#             partial(test, *new_fixture_store.values())()\n",
    "#         return replacement_test\n",
    "#     return wrapper()\n",
    "\n",
    "    def wrapper():  # removed the `replacement_test` layer\n",
    "        partial(test, *new_fixture_store.values())()\n",
    "    return wrapper"
   ]
  },
  {
   "cell_type": "markdown",
   "metadata": {},
   "source": [
    "The feedback I got from gilch was that I had not eliminated all of the waste. Then I realized that `wrapper` was also not necessary:"
   ]
  },
  {
   "cell_type": "code",
   "execution_count": null,
   "metadata": {},
   "outputs": [],
   "source": [
    "def run_with(test):\n",
    "    new_fixture_store = {}\n",
    "    for fixture_fn in fixtures:\n",
    "        new_fixture_store[fixture_fn.__name__] = fixture_fn()\n",
    "\n",
    "    return partial(test, *new_fixture_store.values())  # removed `wrapper` altogether"
   ]
  },
  {
   "cell_type": "markdown",
   "metadata": {},
   "source": [
    "Gilch remarked that the `fixture_store=fixtures` part is also not required.\n",
    "\n",
    "### Passing in Fixtures in Any Order\n",
    "\n",
    "Gilch gave me a hint, \"do you remember all the types of [packing and unpacking](https://www.lesswrong.com/posts/kv3RG7Ax8sgn2eog7/an-apprentice-experiment-in-python-programming#Parameter_vs__Argument__Packing_vs__Unpacking1) we discussed before?\" I answered, \"there's unpacking an iterable of arguments, like `*args`, and there's unpacking a dictionary of keyword arguments, like `*kwargs`.\" \"Not right. `**kwargs`. Two stars. If you unpack a dict with one star, you just get the keys. This is because dicts are both mappings and iterables,\" gilch corrected me. \n",
    "\n",
    "Then I realized that I could pass in the fixtures as keyword arguments in any order:\n",
    "```diff\n",
    "-def fixture(f, fixture_store=fixtures):\n",
    "-    fixture_store.append(f)\n",
    "+def fixture(f):\n",
    "+    fixtures.append(f)\n",
    "     return f\n",
    "\n",
    " def run_with(test):\n",
    "     new_fixture_store = {}\n",
    "     for fixture_fn in fixtures:\n",
    "         new_fixture_store[fixture_fn.__name__] = fixture_fn()\n",
    "-    def wrapper():\n",
    "-        def replacement_test():\n",
    "-            partial(test, *new_fixture_store.values())()\n",
    "-        return replacement_test\n",
    "-    return wrapper()\n",
    "+\n",
    "+    return partial(test, **new_fixture_store)\n",
    "\n",
    " @run_with\n",
    "-def test2(foo, bar):\n",
    "+def test2(bar, foo):\n",
    "     for k in foo:\n",
    "         print(bar[k])\n",
    "```\n"
   ]
  },
  {
   "cell_type": "code",
   "execution_count": 28,
   "metadata": {},
   "outputs": [
    {
     "name": "stdout",
     "output_type": "stream",
     "text": [
      "made a foo\n",
      "made a bar\n",
      "made a foo\n",
      "made a bar\n"
     ]
    }
   ],
   "source": [
    "from functools import partial\n",
    "\n",
    "fixtures = []\n",
    "\n",
    "def fixture(f):  # removed default parameter `fixture_store=fixtures`\n",
    "    fixtures.append(f)\n",
    "    return f\n",
    "\n",
    "def run_with(test):\n",
    "    new_fixture_store = {}\n",
    "    for fixture_fn in fixtures:\n",
    "        new_fixture_store[fixture_fn.__name__] = fixture_fn()\n",
    "\n",
    "    return partial(test, **new_fixture_store)  # no more calling `new_fixture_store.values()`, also added keyword unpacking\n",
    "\n",
    "\n",
    "@fixture\n",
    "def foo():\n",
    "    print('made a foo')\n",
    "    return [42,'eggs']\n",
    "\n",
    "@fixture\n",
    "def bar():\n",
    "    print('made a bar')\n",
    "    return {'z':'Q', 'foo':2, 42:'forty-two', 'eggs':'spam'}\n",
    "\n",
    "@run_with\n",
    "def test1(foo, bar):\n",
    "    while foo:\n",
    "        del bar[foo.pop()]\n",
    "    print(bar)\n",
    "\n",
    "@run_with\n",
    "def test2(bar, foo):  # now the code works regardless of the order of parameters\n",
    "    for k in foo:\n",
    "        print(bar[k])"
   ]
  },
  {
   "cell_type": "code",
   "execution_count": 29,
   "metadata": {},
   "outputs": [
    {
     "name": "stdout",
     "output_type": "stream",
     "text": [
      "{'z': 'Q', 'foo': 2}\n"
     ]
    }
   ],
   "source": [
    "test1()"
   ]
  },
  {
   "cell_type": "code",
   "execution_count": 30,
   "metadata": {},
   "outputs": [
    {
     "name": "stdout",
     "output_type": "stream",
     "text": [
      "forty-two\n",
      "spam\n"
     ]
    }
   ],
   "source": [
    "test2()"
   ]
  },
  {
   "cell_type": "markdown",
   "metadata": {},
   "source": [
    "### Dictionary Comprehension\n",
    "\n",
    "Gilch asked me if I knew about list comprehensions, then asked me to rewrite the decorator with a dict comprehension. So `run_with` can be abbreviated to one line:\n",
    "\n",
    "```python\n",
    "def run_with:\n",
    "    return partial(test, **{f.__name__: f() for f in fixtures})\n",
    "```"
   ]
  },
  {
   "cell_type": "markdown",
   "metadata": {},
   "source": [
    "### Docstrings\n",
    "\n",
    "Next up, gilch made a small tweak:\n",
    "\n",
    "```python\n",
    "@run_with\n",
    "def test1(foo, bar):\n",
    "    \"The first test.\"\n",
    "    while foo:\n",
    "        del bar[foo.pop()]\n",
    "    print(bar)\n",
    "\n",
    "@run_with\n",
    "def test2(foo, bar):\n",
    "    \"The one after that.\"\n",
    "    for k in foo:\n",
    "        print(bar[k])\n",
    "```\n",
    "\n",
    "\"The test output should be the same, but in addition, `help(test1)` should show the documentation.\"\n",
    "\n",
    "Naturally, I thought of the [`wraps` decorator we had seen earlier](https://www.lesswrong.com/posts/jkaCF3yrfKvFQL4ym/an-apprentice-experiment-in-python-programming-part-2#wraps):\n"
   ]
  },
  {
   "cell_type": "code",
   "execution_count": 34,
   "metadata": {},
   "outputs": [],
   "source": [
    "from functools import partial, wraps\n",
    "\n",
    "def run_with(test):\n",
    "    @wraps(test)\n",
    "    def test_with_fixtures():  # in order to use the decorater with `@` I added another layer of function\n",
    "        return partial(test, **{f.__name__: f() for f in fixtures})\n",
    "    return test_with_fixtures()"
   ]
  },
  {
   "cell_type": "markdown",
   "metadata": {},
   "source": [
    "This did not work as I expected:\n",
    "\n",
    "```\n",
    "Help on partial object:\n",
    "\n",
    "class partial(builtins.object)\n",
    " |  partial(func, *args, **keywords) - new function with partial application\n",
    ":\n",
    "```\n",
    "\n",
    "\"Aaah, you put the waste back in! A natural thing to try though,\" gilch was amused. \n",
    "\n",
    "\"I didn't figure out how to use `@wraps` without a function definition, \" I replied.\n",
    "\n",
    "\"Try desugaring the wraps, and then tell me where the waste is.\"\n",
    "\n",
    "\"`test_with_fixtures = (wraps(test))(test_with_fixtures)`\" I finally managed to [desugar a decorator correctly](https://www.lesswrong.com/posts/jkaCF3yrfKvFQL4ym/an-apprentice-experiment-in-python-programming-part-2#Observations).\n",
    "\n",
    "\"Yes, and?\"\n",
    "\n",
    "\"We could just do `(wraps(test))(partial(test, **{f.__name__: f() for f in fixtures}))`?\" I asked, unsure where this was going.\n",
    "\n",
    "\"Yes!\"\n",
    "\n",
    "\"It did not occur to me that we could use decorators in the desugared way too, but this looks obvious in hindsight.\"\n",
    "\n",
    "\"Very important not to forget it. Decorators are just higher-order functions.\"\n",
    "\n",
    "With this, we were able to get the docstrings working:"
   ]
  },
  {
   "cell_type": "code",
   "execution_count": 36,
   "metadata": {},
   "outputs": [],
   "source": [
    "def run_with(test):\n",
    "    return (wraps(test))(partial(test, **{f.__name__: f() for f in fixtures}))"
   ]
  },
  {
   "cell_type": "markdown",
   "metadata": {},
   "source": [
    "```\n",
    "Help on partial in module __main__:\n",
    "\n",
    "test1 = functools.partial(<function test1 at 0x7fee604c0... 'Q', 'foo': 2, 42: 'forty-two', 'eggs': 'spam'})\n",
    "    The first test.\n",
    ":\n",
    "```\n",
    "\n",
    "I was still confused, because the fact that I put an extra layer of functions in the code didn't explain why the docstring was not working, \"can I not use `wraps` on a partial function or something?\"\n",
    "\n",
    "\"Because the one you modified with wraps was not the one the decorator returned. Look closely. Which function did you modify with wraps? Which function did you return?\"\n",
    "\n",
    "\"Oh I see, I returned the partial, not `test_with_fixtures`.\"\n",
    "\n",
    "\"Yes. And that's also why it was a waste. `test_with_fixtures` was superfluous. It didn't do anything useful.\""
   ]
  },
  {
   "cell_type": "markdown",
   "metadata": {},
   "source": [
    "### Going Back to `@run_with.fixture`\n",
    "\n",
    "I didn't understand how class methods worked very well, but I thought I'd just try again at implementing the `__new__` method to take in a parameter.\n",
    "```diff\n",
    "-from functools import partial\n",
    "+from functools import partial, wraps\n",
    " \n",
    "-fixtures = []\n",
    "+class run_with:\n",
    "+    fixtures = []\n",
    "+    def __new__(cls, test):\n",
    "+        return (wraps(test))(partial(test, **{f.__name__: f() for f in run_with.fixtures}))\n",
    " \n",
    "-def fixture(f):\n",
    "-    fixtures.append(f)\n",
    "-    return f\n",
    "+    def fixture(f):\n",
    "+        run_with.fixtures.append(f)\n",
    "+        return f\n",
    " \n",
    "-def run_with(test):\n",
    "-    new_fixture_store = {}\n",
    "-    for fixture_fn in fixtures:\n",
    "-        new_fixture_store[fixture_fn.__name__] = fixture_fn()\n",
    " \n",
    "-    return partial(test, **new_fixture_store)\n",
    "-\n",
    "-\n",
    "-@fixture\n",
    "+@run_with.fixture\n",
    " def foo():\n",
    "     print('made a foo')\n",
    "     return [42,'eggs']\n",
    " \n",
    "-@fixture\n",
    "+@run_with.fixture\n",
    " def bar():\n",
    "     print('made a bar')\n",
    "     return {'z':'Q', 'foo':2, 42:'forty-two', 'eggs':'spam'}\n",
    " \n",
    " @run_with\n",
    " def test1(foo, bar):\n",
    "+    \"The first test.\"\n",
    "     while foo:\n",
    "         del bar[foo.pop()]\n",
    "     print(bar)\n",
    " \n",
    " @run_with\n",
    " def test2(bar, foo):\n",
    "+    \"The one after that.\"\n",
    "     for k in foo:\n",
    "         print(bar[k])\n",
    "```\n",
    "\n",
    "It worked!\n"
   ]
  },
  {
   "cell_type": "code",
   "execution_count": 38,
   "metadata": {},
   "outputs": [
    {
     "name": "stdout",
     "output_type": "stream",
     "text": [
      "made a foo\n",
      "made a bar\n",
      "made a foo\n",
      "made a bar\n"
     ]
    }
   ],
   "source": [
    "from functools import partial, wraps\n",
    "\n",
    "class run_with:  # defining `run_with` as a class instead of function\n",
    "    fixtures = []  # this is now a class variable instead of global variable\n",
    "    def __new__(cls, test):\n",
    "        return (wraps(test))(partial(test, **{f.__name__: f() for f in run_with.fixtures}))\n",
    "\n",
    "    def fixture(f):  # at first this line was \"def fixture(cls, f)\" but it didn't work\n",
    "        run_with.fixtures.append(f)  # using the class variable instead of global variable\n",
    "        return f\n",
    "\n",
    "\n",
    "@run_with.fixture  # using these decorators as specified in the original problem\n",
    "def foo():\n",
    "    print('made a foo')\n",
    "    return [42,'eggs']\n",
    "\n",
    "@run_with.fixture\n",
    "def bar():\n",
    "    print('made a bar')\n",
    "    return {'z':'Q', 'foo':2, 42:'forty-two', 'eggs':'spam'}\n",
    "\n",
    "@run_with\n",
    "def test1(foo, bar):\n",
    "    \"The first test.\"\n",
    "    while foo:\n",
    "        del bar[foo.pop()]\n",
    "    print(bar)\n",
    "\n",
    "@run_with\n",
    "def test2(bar, foo):\n",
    "    \"The one after that.\"\n",
    "    for k in foo:\n",
    "        print(bar[k])"
   ]
  },
  {
   "cell_type": "code",
   "execution_count": 39,
   "metadata": {},
   "outputs": [
    {
     "name": "stdout",
     "output_type": "stream",
     "text": [
      "{'z': 'Q', 'foo': 2}\n"
     ]
    }
   ],
   "source": [
    "test1()"
   ]
  },
  {
   "cell_type": "code",
   "execution_count": 40,
   "metadata": {},
   "outputs": [
    {
     "name": "stdout",
     "output_type": "stream",
     "text": [
      "forty-two\n",
      "spam\n"
     ]
    }
   ],
   "source": [
    "test2()"
   ]
  },
  {
   "cell_type": "markdown",
   "metadata": {},
   "source": [
    "```python\n",
    "$ python3.9 -i code.py \n",
    "made a foo\n",
    "made a bar\n",
    "made a foo\n",
    "made a bar\n",
    ">>> test1()\n",
    "{'z': 'Q', 'foo': 2}\n",
    ">>> test2()\n",
    "forty-two\n",
    "spam\n",
    ">>> help(test1)\n",
    "Help on partial in module __main__:\n",
    "\n",
    "test1 = functools.partial(<function test1 at 0x7f596979c3a0>, foo=[], bar={'z': 'Q', 'foo': 2})\n",
    "    The first test.\n",
    "```\n"
   ]
  },
  {
   "cell_type": "markdown",
   "metadata": {},
   "source": [
    "### Magic Methods\n",
    "\n",
    "There were multiple ways to solve this problem. Alluding to other approaches, gilch gave me an introduction to magic methods:\n",
    "\n",
    "> In Python, certain double-underscore (or \"dunder\") names are special cases with \"magic\" behaviors. You generally aren't supposed to call these directly, but you do implement them pretty often. They serve as user-definable hooks into certain processes. `__init__` and `__new__` are examples of these. Many so-called builtin functions just call the corresponding magic method. `str()` calls `.__str__()`, `repr()` calls `.__repr__()`, `len()` calls `.__len__()`, and so forth. Sometimes the magic methods only implement part of the process, so it's usually better to use the normal process rather than calling the dunder methods yourself. Being familiar with what these are and how they work is important to advanced Python programming. \n",
    ">\n",
    "> ```python\n",
    "> >>> class Foo:\n",
    ">     def __len__(self):\n",
    ">         return 42\n",
    "> \n",
    ">     \n",
    "> >>> Foo()\n",
    "> <__main__.Foo object at 0x000001E5097AD910>\n",
    "> >>> len(_)\n",
    "> 42\n",
    "> ```\n",
    ">\n",
    "> Here, the Foo instance is certainly not any kind of collection or iterable, but it implements the required protocol for `len()` to work. Thus, it has a \"length\". \n",
    ">\n",
    "> Here's a more interesting case:\n",
    ">\n",
    "> ```python\n",
    "> >>> class Foo:\n",
    ">     def __add__(self, other):\n",
    ">         return 42\n",
    "> \n",
    ">     \n",
    "> >>> Foo() + object()\n",
    "> 42\n",
    "> >>> object() + Foo()\n",
    "> Traceback (most recent call last):\n",
    ">   File \"<pyshell#61>\", line 1, in <module>\n",
    ">     object() + Foo()\n",
    "> TypeError: unsupported operand type(s) for +: 'object' and 'Foo'\n",
    "> ```\n",
    ">\n",
    "> One of the ways to solve the puzzle using a class is with the \"callable\" protocol. You can implement that with `__call__`. The ability to easily implement operators for custom types like this is one of the major reasons Python is big in data science. Numpy arrays, for example, implement a lot of these magic methods. I don't know if you ever got to \"operator overloading\" in C++, but this is Python's equivalent. The `()` as in `foo()` or `Foo.foo()` is the call operator. It is possible for a class to implement this operation for its instances, just like I did with `__add__` and `+`. It's actually one of the most straightforward operators to implement, because it's a lot like writing a normal function. Can you solve this one by using `__call__` instead of `__new__`? "
   ]
  },
  {
   "cell_type": "markdown",
   "metadata": {},
   "source": [
    "#### Try it yourself!"
   ]
  },
  {
   "cell_type": "code",
   "execution_count": null,
   "metadata": {},
   "outputs": [],
   "source": [
    "# <insert your code here>\n",
    "\n",
    "@run_with.fixture\n",
    "def foo():\n",
    "    print('made a foo')\n",
    "    return [42,'eggs']\n",
    "\n",
    "@run_with.fixture\n",
    "def bar():\n",
    "    print('made a bar')\n",
    "    return {'z':'Q', 'foo':2, 42:'forty-two', 'eggs':'spam'}\n",
    "\n",
    "@run_with\n",
    "def test1(foo, bar):\n",
    "    \"The first test.\"\n",
    "    while foo:\n",
    "        del bar[foo.pop()]\n",
    "    print(bar)\n",
    "\n",
    "@run_with\n",
    "def test2(bar, foo):\n",
    "    \"The one after that.\"\n",
    "    for k in foo:\n",
    "        print(bar[k])"
   ]
  },
  {
   "cell_type": "code",
   "execution_count": null,
   "metadata": {},
   "outputs": [],
   "source": [
    "test1()"
   ]
  },
  {
   "cell_type": "code",
   "execution_count": null,
   "metadata": {},
   "outputs": [],
   "source": [
    "test2()"
   ]
  },
  {
   "cell_type": "markdown",
   "metadata": {},
   "source": []
  },
  {
   "cell_type": "markdown",
   "metadata": {},
   "source": [
    "### Solution 2\n",
    "\n",
    "My first attempt at implementing `__call__` didn't work:"
   ]
  },
  {
   "cell_type": "code",
   "execution_count": null,
   "metadata": {},
   "outputs": [],
   "source": [
    "class run_with:\n",
    "    fixtures = []\n",
    "    def __call__(self, test):  # replaced `__new__(cls, test):`\n",
    "        return (wraps(test))(partial(test, **{f.__name__: f() for f in run_with.fixtures}))\n",
    "\n",
    "    def fixture(f):  # I wasn't sure whether to make this a class method or instance method\n",
    "        run_with.fixtures.append(f)\n",
    "        return f"
   ]
  },
  {
   "cell_type": "markdown",
   "metadata": {},
   "source": [
    "```python\n",
    "$ python3.9 -i code.py \n",
    "Traceback (most recent call last):\n",
    "  File \"code.py\", line 25, in <module>\n",
    "    def test1(foo, bar):\n",
    "TypeError: run_with() takes no arguments\n",
    "```\n",
    "\n",
    "Gilch pointed out that, \"unlike the class method `__new__`, which takes the class as its first argument `cls`, `__call__` is a normal instance method that requires a `self` instance. When did you construct an instance?\"\n",
    "\n",
    "So I constructed an instance and it worked:\n",
    "```diff\n",
    "-class run_with:\n",
    "+class RunWith:\n",
    "     fixtures = []\n",
    "     def __call__(self, test):\n",
    "         return (wraps(test))(partial(test, **{f.__name__: f() for f in run_with.fixtures}))\n",
    " \n",
    "-    def fixture(f):\n",
    "+    def fixture(self, f):\n",
    "         run_with.fixtures.append(f)\n",
    "         return f\n",
    " \n",
    "+run_with = RunWith()\n",
    "```"
   ]
  },
  {
   "cell_type": "code",
   "execution_count": 41,
   "metadata": {},
   "outputs": [
    {
     "name": "stdout",
     "output_type": "stream",
     "text": [
      "made a foo\n",
      "made a bar\n",
      "made a foo\n",
      "made a bar\n"
     ]
    }
   ],
   "source": [
    "from functools import partial, wraps\n",
    "\n",
    "\n",
    "class RunWith:\n",
    "    fixtures = []\n",
    "    def __call__(self, test):\n",
    "        return (wraps(test))(partial(test, **{f.__name__: f() for f in run_with.fixtures}))\n",
    "\n",
    "    def fixture(self, f):  # now an instance method\n",
    "        run_with.fixtures.append(f)\n",
    "        return f\n",
    "\n",
    "run_with = RunWith()\n",
    "\n",
    "@run_with.fixture\n",
    "def foo():\n",
    "    print('made a foo')\n",
    "    return [42,'eggs']\n",
    "\n",
    "@run_with.fixture\n",
    "def bar():\n",
    "    print('made a bar')\n",
    "    return {'z':'Q', 'foo':2, 42:'forty-two', 'eggs':'spam'}\n",
    "\n",
    "@run_with\n",
    "def test1(foo, bar):\n",
    "    \"The first test.\"\n",
    "    while foo:\n",
    "        del bar[foo.pop()]\n",
    "    print(bar)\n",
    "\n",
    "@run_with\n",
    "def test2(bar, foo):\n",
    "    \"The one after that.\"\n",
    "    for k in foo:\n",
    "        print(bar[k])"
   ]
  },
  {
   "cell_type": "code",
   "execution_count": 42,
   "metadata": {},
   "outputs": [
    {
     "name": "stdout",
     "output_type": "stream",
     "text": [
      "{'z': 'Q', 'foo': 2}\n"
     ]
    }
   ],
   "source": [
    "test1()"
   ]
  },
  {
   "cell_type": "code",
   "execution_count": 43,
   "metadata": {},
   "outputs": [
    {
     "name": "stdout",
     "output_type": "stream",
     "text": [
      "forty-two\n",
      "spam\n"
     ]
    }
   ],
   "source": [
    "test2()"
   ]
  },
  {
   "cell_type": "markdown",
   "metadata": {},
   "source": [
    "### More Magic Methods\n",
    "\n",
    "There was another was to solve this problem. Gilch started to talk about `__dict__`: \"`__dict__` is an important protocol to understand. It corresponds to the builtin `vars()`. See `help(vars)`.\"\n",
    "\n",
    "I stated that the attributes of an object were stored in a dict, and variables in a given scope were also in a dict. Gilch corrected me: \"Some kinds of objects, especially the more primitive kind, do not implement the `.__dict__` protocol, and thus don't work with vars. But they do implement the `__dir__` protocol, and so can still list their attributes. Technically, there are some scopes where variables are not stored in a dict.\"\n",
    "\n",
    "So I tried `dir()`:"
   ]
  },
  {
   "cell_type": "code",
   "execution_count": 44,
   "metadata": {},
   "outputs": [
    {
     "data": {
      "text/plain": [
       "['__abs__',\n",
       " '__add__',\n",
       " '__and__',\n",
       " '__bool__',\n",
       " '__ceil__',\n",
       " '__class__',\n",
       " '__delattr__',\n",
       " '__dir__',\n",
       " '__divmod__',\n",
       " '__doc__',\n",
       " '__eq__',\n",
       " '__float__',\n",
       " '__floor__',\n",
       " '__floordiv__',\n",
       " '__format__',\n",
       " '__ge__',\n",
       " '__getattribute__',\n",
       " '__getnewargs__',\n",
       " '__gt__',\n",
       " '__hash__',\n",
       " '__index__',\n",
       " '__init__',\n",
       " '__init_subclass__',\n",
       " '__int__',\n",
       " '__invert__',\n",
       " '__le__',\n",
       " '__lshift__',\n",
       " '__lt__',\n",
       " '__mod__',\n",
       " '__mul__',\n",
       " '__ne__',\n",
       " '__neg__',\n",
       " '__new__',\n",
       " '__or__',\n",
       " '__pos__',\n",
       " '__pow__',\n",
       " '__radd__',\n",
       " '__rand__',\n",
       " '__rdivmod__',\n",
       " '__reduce__',\n",
       " '__reduce_ex__',\n",
       " '__repr__',\n",
       " '__rfloordiv__',\n",
       " '__rlshift__',\n",
       " '__rmod__',\n",
       " '__rmul__',\n",
       " '__ror__',\n",
       " '__round__',\n",
       " '__rpow__',\n",
       " '__rrshift__',\n",
       " '__rshift__',\n",
       " '__rsub__',\n",
       " '__rtruediv__',\n",
       " '__rxor__',\n",
       " '__setattr__',\n",
       " '__sizeof__',\n",
       " '__str__',\n",
       " '__sub__',\n",
       " '__subclasshook__',\n",
       " '__truediv__',\n",
       " '__trunc__',\n",
       " '__xor__',\n",
       " 'as_integer_ratio',\n",
       " 'bit_length',\n",
       " 'conjugate',\n",
       " 'denominator',\n",
       " 'from_bytes',\n",
       " 'imag',\n",
       " 'numerator',\n",
       " 'real',\n",
       " 'to_bytes']"
      ]
     },
     "execution_count": 44,
     "metadata": {},
     "output_type": "execute_result"
    }
   ],
   "source": [
    "dir(42)"
   ]
  },
  {
   "cell_type": "markdown",
   "metadata": {},
   "source": [
    "Gilch: \"Note that `__dict__` is not in that list. Ints are one of the types that don't have one. Thus, `vars()` doesn't work on ints. You could still make one yourself with something like `{k:getattr(42, k) for k in dir(42)}`. It's possible to implement `__dir__` to return anything. It's supposed to be a list of all the object's attributes, but in some cases it doesn't list all of them. With neither `__dir__` reporting it nor a `__dict__`, it's possible for a secret attribute to exist. These are hard to find.\"\n",
    "\n",
    "I asked some tangential questions on the implementation of `__dir__`, and eventually the topic came back to, \"so, given all of that, can you solve the puzzle without declaring a new class?\"\n",
    "\n",
    "At this point, I was still not entirely clear about how I'd do this:\n",
    "\n",
    "> So we have the previous function implementation of `run_with`:\n",
    ">\n",
    "> ```python\n",
    "> def run_with(test):\n",
    ">     return (wraps(test))(partial(test, **{f.__name__: f() for f in fixtures}))\n",
    "> ```\n",
    ">\n",
    "> ```python\n",
    "> >>> dir(run_with)\n",
    "> ['__annotations__', '__call__', '__class__', '__closure__', '__code__', '__defaults__', '__delattr__', '__dict__', '__dir__', '__doc__', '__eq__', '__format__', '__ge__', '__get__', '__getattribute__', '__globals__', '__gt__', '__hash__', '__init__', '__init_subclass__', '__kwdefaults__', '__le__', '__lt__', '__module__', '__name__', '__ne__', '__new__', '__qualname__', '__reduce__', '__reduce_ex__', '__repr__', '__setattr__', '__sizeof__', '__str__', '__subclasshook__']\n",
    "> ```\n",
    ">\n",
    "> And I'll need to think about overloading some of these...\n",
    "\n",
    "Gilch: \"What does `__dict__` do?\"\n",
    "\n",
    "Me:\n",
    "\n",
    "> ```python\n",
    "> >>> run_with.__dict__\n",
    "> {}\n",
    "> ```\n",
    "\n",
    "Gilch: \"What about `vars(run_with)`?\"\n",
    "\n",
    "Me:\n",
    "\n",
    "> ```python\n",
    "> >>> vars(run_with)\n",
    "> {}\n",
    "> >>> run_with\n",
    "> <function run_with at 0x7fab0a1c6040>\n",
    "> ```\n",
    ">\n",
    "> I think the error on the line `@run_with.fixture` is preventing the function definition from running\n",
    "\n",
    "Gilch: \"I'll rephrase: what is the `__dict__` for?\"\n",
    "\n",
    "Me: \"`__dict__` returns attributes of an object.\"\n",
    "\n",
    "Gilch: \"Why is it empty? Doesn't `run_with` have any attributes?\"\n",
    "\n",
    "I was quite baffled:\n",
    "\n",
    "> ```python\n",
    "> >>> run_with.__name__\n",
    "> 'run_with'\n",
    "> ```\n",
    ">\n",
    "> It does have attributes. I don't know why `run_with.__dict__` is empty...\n",
    "\n",
    "Gilch: \"How about `vars(type(run_with))`? `type` uses the `__class__` protocol, btw. So `run_with.__class__.__dict__` should be the same.\"\n",
    "\n",
    "I tried `vars(type(run_with))`:\n",
    "\n",
    "> ```python\n",
    "> >>> vars(type(run_with))\n",
    "> mappingproxy({'__repr__': <slot wrapper '__repr__' of 'function' objects>, '__call__': <slot wrapper '__call__' of 'function' objects>, '__get__': <slot wrapper '__get__' of 'function' objects>, '__new__': <built-in method __new__ of type object at 0x948de0>, '__closure__': <member '__closure__' of 'function' objects>, '__doc__': <member '__doc__' of 'function' objects>, '__globals__': <member '__globals__' of 'function' objects>, '__module__': <member '__module__' of 'function' objects>, '__code__': <attribute '__code__' of 'function' objects>, '__defaults__': <attribute '__defaults__' of 'function' objects>, '__kwdefaults__': <attribute '__kwdefaults__' of 'function' objects>, '__annotations__': <attribute '__annotations__' of 'function' objects>, '__dict__': <attribute '__dict__' of 'function' objects>, '__name__': <attribute '__name__' of 'function' objects>, '__qualname__': <attribute '__qualname__' of 'function' objects>})\n",
    "> >>> type(run_with)\n",
    "> <class 'function'>\n",
    "> ```\n",
    "\n",
    "Gilch: \"Or how about `vars(type(run_with)).keys()`? That might make it easier to see.\"\n",
    "\n",
    "I was still pretty confused and was just thinking out loud at this point:\n",
    "\n",
    "> So `'__dict__': <attribute '__dict__' of 'function' objects>` does exist\n",
    ">\n",
    "> ```python\n",
    "> >>> vars(type(run_with)).keys()\n",
    "> dict_keys(['__repr__', '__call__', '__get__', '__new__', '__closure__', '__doc__', '__globals__', '__module__', '__code__', '__defaults__', '__kwdefaults__', '__annotations__', '__dict__', '__name__', '__qualname__'])\n",
    "> ```\n",
    "\n",
    "Gilch:\n",
    "\n",
    ">  Do those keys look familiar? Is that all of them?\n",
    ">\n",
    "> `len(vars(type(run_with)))`\n",
    ">\n",
    "> `len(dir(run_with))`\n",
    "\n",
    "Me:\n",
    "\n",
    "> so `dir(run_with)` has a lot more methods than the function base class protocols (not sure if I'm wording this correctly):\n",
    ">\n",
    "> ```python\n",
    "> >>> dir(run_with)\n",
    "> ['__annotations__', '__call__', '__class__', '__closure__', '__code__', '__defaults__', '__delattr__', '__dict__', '__dir__', '__doc__', '__eq__', '__format__', '__ge__', '__get__', '__getattribute__', '__globals__', '__gt__', '__hash__', '__init__', '__init_subclass__', '__kwdefaults__', '__le__', '__lt__', '__module__', '__name__', '__ne__', '__new__', '__qualname__', '__reduce__', '__reduce_ex__', '__repr__', '__setattr__', '__sizeof__', '__str__', '__subclasshook__']\n",
    "> ```\n",
    "\n",
    "Gilch:\n",
    "\n",
    "> A protocol is an informal interface. A set of methods for a particular purpose.\n",
    ">\n",
    "> The `run_with` function object has more attributes than those defined by its class. Where are the other ones coming from then?\n",
    ">\n",
    "> `set(dir(run_with)) - set(vars(type(run_with)))`.\n",
    ">\n",
    "> `list(sorted(_))`\n",
    "\n",
    "Me:\n",
    "\n",
    "> ```python\n",
    "> >>> set(dir(run_with)) - set(vars(type(run_with)))\n",
    "> {'__setattr__', '__str__', '__sizeof__', '__getattribute__', '__format__', '__init__', '__reduce__', '__eq__', '__le__', '__ge__', '__hash__', '__lt__', '__delattr__', '__dir__', '__subclasshook__', '__reduce_ex__', '__class__', '__gt__', '__init_subclass__', '__ne__'}\n",
    "> >>> list(sorted(_))\n",
    "> ['__class__', '__delattr__', '__dir__', '__eq__', '__format__', '__ge__', '__getattribute__', '__gt__', '__hash__', '__init__', '__init_subclass__', '__le__', '__lt__', '__ne__', '__reduce__', '__reduce_ex__', '__setattr__', '__sizeof__', '__str__', '__subclasshook__']\n",
    "> ```\n",
    ">\n",
    "> So these look like what I'd get from `dir(object)`\n",
    "\n",
    "Gilch:\n",
    "\n",
    "> `set(dir(run_with)) - set(vars(type(run_with))) - set(dir(object))`\n",
    "\n",
    "I was utterly confused:\n",
    "\n",
    "> `(wraps(test))(partial(test, **{f.__name__: f() for f in fixtures}))` is an object? But everything in Python are objects?\n",
    "\n",
    "I also tried the command gilch suggested:\n",
    "\n",
    "> ```python\n",
    "> >>> set(dir(run_with)) - set(vars(type(run_with))) - set(dir(object))\n",
    "> set()\n",
    "> ```\n",
    "\n",
    "Gilch:\n",
    "\n",
    "> That accounts for all of them. Expressions in Python always evaluate to objects.\n",
    "\n",
    "Me: \n",
    "\n",
    "> So I have the thought of adding a new object attribute `fixture`, but traditionally the way I'd do that was through instance methods, which we have already done before.\n",
    "\n",
    "Gilch:\n",
    "\n",
    "> Where do attributes live?\n",
    "\n",
    "Then I had the idea of modifying the `__dict__` to make an attribute:\n",
    "```diff\n",
    "-class RunWith:\n",
    "-    fixtures = []\n",
    "-    def __call__(self, test):\n",
    "-        return (wraps(test))(partial(test, **{f.__name__: f() for f in run_with.fixtures}))\n",
    "+fixtures = []\n",
    " \n",
    "-    def fixture(self, f):\n",
    "-        run_with.fixtures.append(f)\n",
    "-        return f\n",
    "+def run_with(test):\n",
    "+    return (wraps(test))(partial(test, **{f.__name__: f() for f in fixtures}))\n",
    "+\n",
    "+run_with.__dict__[\"fixture\"] = lambda f: fixtures.append(f)\n",
    " \n",
    "-run_with = RunWith()\n",
    "```"
   ]
  },
  {
   "cell_type": "code",
   "execution_count": 45,
   "metadata": {},
   "outputs": [
    {
     "name": "stdout",
     "output_type": "stream",
     "text": [
      "made a foo\n",
      "made a bar\n",
      "made a foo\n",
      "made a bar\n"
     ]
    }
   ],
   "source": [
    "from functools import partial, wraps\n",
    "\n",
    "fixtures = []\n",
    "\n",
    "def run_with(test):\n",
    "    return (wraps(test))(partial(test, **{f.__name__: f() for f in fixtures}))\n",
    "\n",
    "run_with.__dict__[\"fixture\"] = lambda f: fixtures.append(f)  # defining `fixture` via __dict__\n",
    "\n",
    "\n",
    "@run_with.fixture\n",
    "def foo():\n",
    "    print('made a foo')\n",
    "    return [42,'eggs']\n",
    "\n",
    "@run_with.fixture\n",
    "def bar():\n",
    "    print('made a bar')\n",
    "    return {'z':'Q', 'foo':2, 42:'forty-two', 'eggs':'spam'}\n",
    "\n",
    "@run_with\n",
    "def test1(foo, bar):\n",
    "    \"The first test.\"\n",
    "    while foo:\n",
    "        del bar[foo.pop()]\n",
    "    print(bar)\n",
    "\n",
    "@run_with\n",
    "def test2(bar, foo):\n",
    "    \"The one after that.\"\n",
    "    for k in foo:\n",
    "        print(bar[k])"
   ]
  },
  {
   "cell_type": "code",
   "execution_count": 46,
   "metadata": {},
   "outputs": [
    {
     "name": "stdout",
     "output_type": "stream",
     "text": [
      "{'z': 'Q', 'foo': 2}\n"
     ]
    }
   ],
   "source": [
    "test1()"
   ]
  },
  {
   "cell_type": "code",
   "execution_count": 47,
   "metadata": {},
   "outputs": [
    {
     "name": "stdout",
     "output_type": "stream",
     "text": [
      "forty-two\n",
      "spam\n"
     ]
    }
   ],
   "source": [
    "test2()"
   ]
  },
  {
   "cell_type": "markdown",
   "metadata": {},
   "source": [
    "Gilch also gave me their version:\n",
    "\n",
    "```python\n",
    "from functools import partial, wraps\n",
    "\n",
    "def run_with(f):\n",
    "    return wraps(f)(partial(f,**{k: v() for k, v in run_with._args.items()}))\n",
    "\n",
    "run_with._args = {}\n",
    "\n",
    "def fixture(f):\n",
    "    run_with._args[f.__name__] = f\n",
    "    return f\n",
    "\n",
    "run_with.fixture = fixture\n",
    "```"
   ]
  },
  {
   "cell_type": "markdown",
   "metadata": {},
   "source": [
    "### Loose Threads\n",
    "\n",
    "While I figured out the solution of the problem, I still don't have a full understanding of `vars`, `dir` and `__dict__` and how they interact with each other. We'll pick this up next time!\n"
   ]
  }
 ],
 "metadata": {
  "kernelspec": {
   "display_name": "Python 3",
   "language": "python",
   "name": "python3"
  },
  "language_info": {
   "codemirror_mode": {
    "name": "ipython",
    "version": 3
   },
   "file_extension": ".py",
   "mimetype": "text/x-python",
   "name": "python",
   "nbconvert_exporter": "python",
   "pygments_lexer": "ipython3",
   "version": "3.8.10"
  }
 },
 "nbformat": 4,
 "nbformat_minor": 4
}
